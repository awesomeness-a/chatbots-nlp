{
 "cells": [
  {
   "cell_type": "markdown",
   "metadata": {},
   "source": [
    "# Cyborg Cantina\n",
    "\n",
    "__Retrieval-based__ chatbots are commonly used in customer service environments. User questions are constrained to the specific service being provided, which approximates a closed-domain conversation. However, people are known to be especially picky with their food. So how about creating a chatbot system that effectively answers all of a diner’s questions about the food on a restaurant menu?\n",
    "\n",
    "In this project we will build a retrieval-based chatbot system for a restaurant serving Mexican cuisine. We’ll use a combination of __tf-idf__ scoring, __word embedding__ models, and a set of use-defined functions in order to answer any number of questions from a restaurant diner.\n",
    "\n",
    "By the end of this project, we’ll have constructed a full retrieval-based chatbot system, conversed with our own chatbot creation, and improved the system by adding additional candidate responses!"
   ]
  },
  {
   "cell_type": "markdown",
   "metadata": {},
   "source": [
    "## Chabot Input/Output\n",
    "\n",
    "Let’s begin at the end! We must provide a way for our user to end a conversation once they have had all their questions answered. For that purpose, we have `exit_commands`, a list of strings commonly used as exit commands from a chatbot system.\n",
    "\n",
    "Now we need to define a `.make_exit()` method with `self` and `user_message` as parameters.\\\n",
    "Within `.make_exit()`, we write a for loop over each object in `exit_commands`, check if the object also occurs in `user_message`.\\\n",
    "If the object does occur in `user_message`, we print a goodbye message to the console, and return `True`.\\\n",
    "If the object does not occur in `user_message`, our function does nothing."
   ]
  },
  {
   "cell_type": "code",
   "execution_count": 1,
   "metadata": {},
   "outputs": [],
   "source": [
    "from collections import Counter\n",
    "from responses import responses, blank_spot\n",
    "from user_functions import preprocess, compare_overlap, pos_tag, extract_nouns, compute_similarity\n",
    "import spacy\n",
    "#import en_core_web_md\n",
    "word2vec = spacy.load(\"en_core_web_md\")\n",
    "\n",
    "exit_commands = (\"quit\", \"goodbye\", \"exit\", \"no\")\n",
    "\n",
    "class ChatBot:\n",
    "  \n",
    "  #define .make_exit()\n",
    "  def make_exit(self, user_message):\n",
    "    for command in exit_commands:\n",
    "      if command in user_message:\n",
    "        print(\"Ok, have a good day!\")\n",
    "        return True\n",
    "    "
   ]
  },
  {
   "cell_type": "markdown",
   "metadata": {},
   "source": [
    "Of course, we should provide a method that allows our chatbot to chat:"
   ]
  },
  {
   "cell_type": "code",
   "execution_count": 2,
   "metadata": {},
   "outputs": [],
   "source": [
    "class ChatBot:\n",
    "    \n",
    "    #define .make_exit()\n",
    "    def make_exit(self, user_message):\n",
    "        for command in exit_commands:\n",
    "            if command in user_message:\n",
    "                print(\"Ok, have a good day!\")\n",
    "                return True\n",
    "    \n",
    "    #define .chat()\n",
    "    def chat(self):\n",
    "        # write a welcoming prompt for a user question\n",
    "        user_message = input(\"Hello there! How can I help you? \")\n",
    "        while not self.make_exit(user_message):\n",
    "            user_message = self.respond(user_message)\n",
    "            "
   ]
  },
  {
   "cell_type": "markdown",
   "metadata": {},
   "source": [
    "## Intent Classification\n",
    "\n",
    "Let’s build a set of BoW models from our data."
   ]
  },
  {
   "cell_type": "code",
   "execution_count": 3,
   "metadata": {},
   "outputs": [],
   "source": [
    "class ChatBot:\n",
    "    \n",
    "    #define .make_exit()\n",
    "    def make_exit(self, user_message):\n",
    "        for command in exit_commands:\n",
    "            if command in user_message:\n",
    "                print(\"Ok, have a good day!\")\n",
    "                return True\n",
    "    \n",
    "    #define .chat()\n",
    "    def chat(self):\n",
    "        # write a welcoming prompt for a user question\n",
    "        user_message = input(\"Hello there! How can I help you? \")\n",
    "        while not self.make_exit(user_message):\n",
    "            user_message = self.respond(user_message)\n",
    "\n",
    "\n",
    "    #define .find_intent_match()\n",
    "    def find_intent_match(self, responses, user_message):\n",
    "        # create a Bag-of-Words model\n",
    "        bow_user_message = Counter(preprocess(user_message))\n",
    "        processed_responses = [Counter(preprocess(response)) for response in responses]\n",
    "        # select the response that best matches the intent of the user message\n",
    "        similarity_list = [compare_overlap(item, bow_user_message) for item in processed_responses]\n",
    "        # select the index of the highest similarity score\n",
    "        response_index = similarity_list.index(max(similarity_list))\n",
    "        return responses[response_index]\n",
    "    "
   ]
  },
  {
   "cell_type": "markdown",
   "metadata": {},
   "source": [
    "Let’s test our `.find_intent_match()` method."
   ]
  },
  {
   "cell_type": "code",
   "execution_count": 4,
   "metadata": {},
   "outputs": [],
   "source": [
    "class ChatBot:\n",
    "    \n",
    "    #define .make_exit()\n",
    "    def make_exit(self, user_message):\n",
    "        for command in exit_commands:\n",
    "            if command in user_message:\n",
    "                print(\"Ok, have a good day!\")\n",
    "                return True\n",
    "    \n",
    "    #define .chat()\n",
    "    def chat(self):\n",
    "        # write a welcoming prompt for a user question\n",
    "        user_message = input(\"Hello there! How can I help you? \")\n",
    "        while not self.make_exit(user_message):\n",
    "            user_message = self.respond(user_message)\n",
    "\n",
    "\n",
    "    #define .find_intent_match()\n",
    "    def find_intent_match(self, responses, user_message):\n",
    "        # create a Bag-of-Words model\n",
    "        bow_user_message = Counter(preprocess(user_message))\n",
    "        processed_responses = [Counter(preprocess(response)) for response in responses]\n",
    "        # select the response that best matches the intent of the user message\n",
    "        similarity_list = [compare_overlap(item, bow_user_message) for item in processed_responses]\n",
    "        # select the index of the highest similarity score\n",
    "        response_index = similarity_list.index(max(similarity_list))\n",
    "        return responses[response_index]\n",
    "    \n",
    "    \n",
    "    # define .respond()\n",
    "    def respond(self, user_message):\n",
    "        best_response = self.find_intent_match(responses, user_message)\n",
    "        entity = self.find_entities(user_message)\n",
    "        print(best_response.format(entity))\n",
    "        #print(best_response)\n",
    "        input_message = input(\"Would you like something else? \")\n",
    "        return input_message\n",
    "        "
   ]
  },
  {
   "cell_type": "markdown",
   "metadata": {},
   "source": [
    "## Entity Recognition and Response Selection\n",
    "\n",
    "Let’s extract candidate entities from the user message."
   ]
  },
  {
   "cell_type": "code",
   "execution_count": 5,
   "metadata": {},
   "outputs": [],
   "source": [
    "class ChatBot:\n",
    "    \n",
    "    #define .make_exit()\n",
    "    def make_exit(self, user_message):\n",
    "        for command in exit_commands:\n",
    "            if command in user_message:\n",
    "                print(\"Ok, have a good day!\")\n",
    "                return True\n",
    "            \n",
    "            \n",
    "    #define .chat()\n",
    "    def chat(self):\n",
    "        # write a welcoming prompt for a user question\n",
    "        user_message = input(\"Hello there! How can I help you? \")\n",
    "        while not self.make_exit(user_message):\n",
    "            user_message = self.respond(user_message)\n",
    "\n",
    "\n",
    "    #define .find_intent_match()\n",
    "    def find_intent_match(self, responses, user_message):\n",
    "        # create a Bag-of-Words model\n",
    "        bow_user_message = Counter(preprocess(user_message))\n",
    "        processed_responses = [Counter(preprocess(response)) for response in responses]\n",
    "        # select the response that best matches the intent of the user message\n",
    "        similarity_list = [compare_overlap(item, bow_user_message) for item in processed_responses]\n",
    "        # select the index of the highest similarity score\n",
    "        response_index = similarity_list.index(max(similarity_list))\n",
    "        return responses[response_index]\n",
    "    \n",
    "    \n",
    "    #define .find_entities()\n",
    "    def find_entities(self, user_message):\n",
    "        tagged_user_message = pos_tag(preprocess(user_message))\n",
    "        message_nouns = extract_nouns(tagged_user_message)\n",
    "        # fit a word2vec model on our candidate entities\n",
    "        tokens = word2vec(\" \".join(message_nouns))\n",
    "        category = word2vec(blank_spot)\n",
    "        word2vec_result = compute_similarity(tokens, category)\n",
    "        # select the entity with the highest similarity score\n",
    "        word2vec_result.sort(key=lambda x: x[2])\n",
    "        if len(word2vec_result) > 0:\n",
    "            return word2vec_result[-1][0]\n",
    "        else:\n",
    "            return blank_spot\n",
    "\n",
    "    \n",
    "    # define .respond()\n",
    "    def respond(self, user_message):\n",
    "        best_response = self.find_intent_match(responses, user_message)\n",
    "        entity = self.find_entities(user_message)\n",
    "        print(best_response.format(entity))\n",
    "        #print(best_response)\n",
    "        input_message = input(\"Would you like something else? \")\n",
    "        return input_message"
   ]
  },
  {
   "cell_type": "markdown",
   "metadata": {},
   "source": [
    "Let's test it out!"
   ]
  },
  {
   "cell_type": "code",
   "execution_count": null,
   "metadata": {},
   "outputs": [],
   "source": [
    "#initialize ChatBot instance below:\n",
    "chatbot_one = ChatBot()\n",
    "\n",
    "#call .chat() method below:\n",
    "chatbot_one.chat()"
   ]
  }
 ],
 "metadata": {
  "kernelspec": {
   "display_name": "Python 3",
   "language": "python",
   "name": "python3"
  },
  "language_info": {
   "codemirror_mode": {
    "name": "ipython",
    "version": 3
   },
   "file_extension": ".py",
   "mimetype": "text/x-python",
   "name": "python",
   "nbconvert_exporter": "python",
   "pygments_lexer": "ipython3",
   "version": "3.7.6"
  }
 },
 "nbformat": 4,
 "nbformat_minor": 4
}
